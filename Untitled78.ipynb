{
  "nbformat": 4,
  "nbformat_minor": 0,
  "metadata": {
    "colab": {
      "private_outputs": true,
      "provenance": [],
      "authorship_tag": "ABX9TyPz9K4Im3hnG4GtSt1lWonl",
      "include_colab_link": true
    },
    "kernelspec": {
      "name": "python3",
      "display_name": "Python 3"
    },
    "language_info": {
      "name": "python"
    }
  },
  "cells": [
    {
      "cell_type": "markdown",
      "metadata": {
        "id": "view-in-github",
        "colab_type": "text"
      },
      "source": [
        "<a href=\"https://colab.research.google.com/github/nihalnihalani/Neo4j-hackathon-project/blob/main/Untitled78.ipynb\" target=\"_parent\"><img src=\"https://colab.research.google.com/assets/colab-badge.svg\" alt=\"Open In Colab\"/></a>"
      ]
    },
    {
      "cell_type": "code",
      "execution_count": null,
      "metadata": {
        "id": "ClUZdM_SdHOL"
      },
      "outputs": [],
      "source": [
        "!pip install google-colab-selenium\n",
        "import google_colab_selenium as gs\n",
        "from selenium.webdriver.common.by import By\n",
        "from selenium.webdriver.support.ui import WebDriverWait\n",
        "from selenium.webdriver.support import expected_conditions as EC\n",
        "\n",
        "# --- Song class ---\n",
        "class Song:\n",
        "    def __init__(self, name, subtitle, url):\n",
        "        self.name = name\n",
        "        self.subtitle = subtitle\n",
        "        self.url = url\n",
        "\n",
        "def scrape_spotify_playlist(playlist_url):\n",
        "    \"\"\"\n",
        "    Scrapes track information from a Spotify playlist URL.\n",
        "\n",
        "    Args:\n",
        "        playlist_url: The URL of the Spotify playlist.\n",
        "\n",
        "    Returns:\n",
        "        A list of Song objects.\n",
        "    \"\"\"\n",
        "\n",
        "    # Start the Chrome driver\n",
        "    driver = gs.Chrome()\n",
        "\n",
        "    try:\n",
        "        # Navigate to the playlist URL\n",
        "        driver.get(playlist_url)\n",
        "\n",
        "        # Wait for the tracklist to load\n",
        "        WebDriverWait(driver, 10).until(\n",
        "            EC.presence_of_element_located((By.CSS_SELECTOR, \"[data-testid='tracklist-row']\"))\n",
        "        )\n",
        "\n",
        "        # Find all track elements\n",
        "        track_elements = driver.find_elements(By.CSS_SELECTOR, \"[data-testid='tracklist-row']\")\n",
        "\n",
        "        songs = []\n",
        "        for track in track_elements:\n",
        "            try:\n",
        "                track_name = track.find_element(By.CSS_SELECTOR, \"[data-testid='track-name']\").text\n",
        "                artist_name = track.find_element(By.CSS_SELECTOR, \"[data-testid='artist-name']\").text\n",
        "\n",
        "                # Get the track URL\n",
        "                track_url_element = track.find_element(By.CSS_SELECTOR, \"a[href*='/track/']\")\n",
        "                track_url = track_url_element.get_attribute(\"href\")\n",
        "\n",
        "                # Create a Song object\n",
        "                song = Song(track_name, artist_name, track_url)\n",
        "                songs.append(song)\n",
        "\n",
        "            except Exception as e:\n",
        "                print(f\"Error processing track: {e}\")\n",
        "\n",
        "    finally:\n",
        "        # Close the driver\n",
        "        driver.quit()\n",
        "\n",
        "    return songs\n",
        "\n",
        "# Example usage:\n",
        "playlist_url = \"https://open.spotify.com/playlist/37i9dQZF1DX9lzz0FRAxgl\"  # Replace with actual URL\n",
        "songs = scrape_spotify_playlist(playlist_url)\n",
        "\n",
        "# Print the scraped data\n",
        "for song in songs:\n",
        "    print(f\"Track: {song.name} - Artist: {song.subtitle} - URL: {song.url}\")"
      ]
    }
  ]
}